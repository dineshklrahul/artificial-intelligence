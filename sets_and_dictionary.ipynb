{
  "nbformat": 4,
  "nbformat_minor": 0,
  "metadata": {
    "colab": {
      "provenance": []
    },
    "kernelspec": {
      "name": "python3",
      "display_name": "Python 3"
    },
    "language_info": {
      "name": "python"
    }
  },
  "cells": [
    {
      "cell_type": "code",
      "execution_count": null,
      "metadata": {
        "colab": {
          "base_uri": "https://localhost:8080/"
        },
        "id": "XfhZzSmgJIKS",
        "outputId": "d45ea948-65f2-45c4-f046-1c29b7e92eb1"
      },
      "outputs": [
        {
          "output_type": "stream",
          "name": "stdout",
          "text": [
            "Fruits set: {'orange', 'apple', 'banana'}\n"
          ]
        }
      ],
      "source": [
        "fruits = {'apple','banana','orange'}\n",
        "print(\"Fruits set:\",fruits)"
      ]
    },
    {
      "cell_type": "code",
      "source": [
        "fruits = {'apple','banana','orange'}\n",
        "fruits.add('grape')\n",
        "print(\"Updated Fruits set:\",fruits)"
      ],
      "metadata": {
        "colab": {
          "base_uri": "https://localhost:8080/"
        },
        "id": "OgDEoruEOQXt",
        "outputId": "da27e7d2-de1c-453d-aaab-65b426ebc0f4"
      },
      "execution_count": null,
      "outputs": [
        {
          "output_type": "stream",
          "name": "stdout",
          "text": [
            "Updated Fruits set: {'orange', 'apple', 'grape', 'banana'}\n"
          ]
        }
      ]
    },
    {
      "cell_type": "code",
      "source": [
        "fruits = {'apple','banana','orange'}\n",
        "fruits.remove('banana')\n",
        "print(\"Updated Fruits set:\",fruits)"
      ],
      "metadata": {
        "colab": {
          "base_uri": "https://localhost:8080/"
        },
        "id": "gM1PQlNSRF9U",
        "outputId": "5debf936-4ef0-49e6-c217-ec33e5ea630c"
      },
      "execution_count": null,
      "outputs": [
        {
          "output_type": "stream",
          "name": "stdout",
          "text": [
            "Updated Fruits set: {'orange', 'apple'}\n"
          ]
        }
      ]
    },
    {
      "cell_type": "code",
      "source": [
        "colors = {'red','green','blue'}\n",
        "print(\"Colors set:\",colors)"
      ],
      "metadata": {
        "colab": {
          "base_uri": "https://localhost:8080/"
        },
        "id": "5OjEMQzGRjmT",
        "outputId": "de842c89-3962-466b-eca6-0e4bd706f298"
      },
      "execution_count": null,
      "outputs": [
        {
          "output_type": "stream",
          "name": "stdout",
          "text": [
            "Colors set: {'blue', 'red', 'green'}\n"
          ]
        }
      ]
    },
    {
      "cell_type": "code",
      "source": [
        "fruits = {'apple','banana','orange'}\n",
        "colors = {'red','green','blue'}\n",
        "combined_set=fruits.union(colors)\n",
        "print(\"Combined set:\",combined_set)"
      ],
      "metadata": {
        "colab": {
          "base_uri": "https://localhost:8080/"
        },
        "id": "hCTKi7R5U4y9",
        "outputId": "df99a8e3-c649-4f90-baed-ed24b362df64"
      },
      "execution_count": null,
      "outputs": [
        {
          "output_type": "stream",
          "name": "stdout",
          "text": [
            "Combined set: {'blue', 'orange', 'apple', 'banana', 'red', 'green'}\n"
          ]
        }
      ]
    },
    {
      "cell_type": "code",
      "source": [
        "fruits = {'apple','banana','orange'}\n",
        "other_set={'banana','grape','mango'}\n",
        "unique_fruits=fruits.difference(other_set)\n",
        "print(\"Unique elements in 'fruits' set:\",unique_fruits)"
      ],
      "metadata": {
        "colab": {
          "base_uri": "https://localhost:8080/"
        },
        "id": "DuV6Yh9tYMkX",
        "outputId": "8adee3f2-5ecf-4d21-f73e-addb112f718f"
      },
      "execution_count": null,
      "outputs": [
        {
          "output_type": "stream",
          "name": "stdout",
          "text": [
            "Unique elements in 'fruits' set: {'apple', 'orange'}\n"
          ]
        }
      ]
    },
    {
      "cell_type": "code",
      "source": [
        "fruits = {'apple','banana','orange'}\n",
        "colors = {'red','green','blue'}\n",
        "is_subset=colors.issubset(fruits)\n",
        "if is_subset:\n",
        "    print(\"the 'colors' set is a subset of the 'fruits' set\")\n",
        "else:\n",
        "    print(\"the 'colors' set is not a subset of the 'fruits' set\")"
      ],
      "metadata": {
        "colab": {
          "base_uri": "https://localhost:8080/"
        },
        "id": "GibAGTnNZOk1",
        "outputId": "662673d1-6b86-49ed-cb4f-1d2c401ac94a"
      },
      "execution_count": null,
      "outputs": [
        {
          "output_type": "stream",
          "name": "stdout",
          "text": [
            "the 'colors' set is not a subset of the 'fruits' set\n"
          ]
        }
      ]
    },
    {
      "cell_type": "code",
      "source": [
        "student = {\n",
        "    'name':'kl rahul',\n",
        "    'age':21,\n",
        "    'grade':'A'\n",
        "\n",
        "}\n",
        "print(\"Student information:\",student)"
      ],
      "metadata": {
        "colab": {
          "base_uri": "https://localhost:8080/"
        },
        "id": "NXuwGssydaRV",
        "outputId": "2980c420-1209-4443-c56d-0fef9c261bb6"
      },
      "execution_count": null,
      "outputs": [
        {
          "output_type": "stream",
          "name": "stdout",
          "text": [
            "Student information: {'name': 'kl rahul', 'age': 21, 'grade': 'A'}\n"
          ]
        }
      ]
    },
    {
      "cell_type": "code",
      "source": [
        "student = {\n",
        "    'name':'klrahul',\n",
        "    'age':21,\n",
        "    'grade':'A'\n",
        "}\n",
        "age_value=student['age']\n",
        "print(\"Age:\",age_value)"
      ],
      "metadata": {
        "colab": {
          "base_uri": "https://localhost:8080/"
        },
        "id": "0HN38w_rhl4q",
        "outputId": "f1e78563-b6de-44c2-ffbf-952feb16761c"
      },
      "execution_count": null,
      "outputs": [
        {
          "output_type": "stream",
          "name": "stdout",
          "text": [
            "Age: 21\n"
          ]
        }
      ]
    },
    {
      "cell_type": "code",
      "source": [
        "student = {\n",
        "    'name':'klrahul',\n",
        "    'age':21,\n",
        "    'grade':'A'\n",
        "}\n",
        "student['grade']='B'\n",
        "print(\"Upadated Student information:\",student)\n"
      ],
      "metadata": {
        "colab": {
          "base_uri": "https://localhost:8080/"
        },
        "id": "bd6Db-RejT1q",
        "outputId": "e24da864-0039-4e00-ea8a-01f5f1d8ccc3"
      },
      "execution_count": null,
      "outputs": [
        {
          "output_type": "stream",
          "name": "stdout",
          "text": [
            "Upadated Student information: {'name': 'klrahul', 'age': 21, 'grade': 'B'}\n"
          ]
        }
      ]
    },
    {
      "cell_type": "code",
      "source": [
        "student = {\n",
        "    'name':'kl rahul',\n",
        "    'age':21,\n",
        "    'grade':'B'\n",
        "}\n",
        "keys_list=list(student.keys())\n",
        "print(\"List of keys:\",keys_list)"
      ],
      "metadata": {
        "colab": {
          "base_uri": "https://localhost:8080/"
        },
        "id": "67BwTOY0lWS0",
        "outputId": "63e538c0-4113-4275-d739-c6d6f2ef6d3b"
      },
      "execution_count": null,
      "outputs": [
        {
          "output_type": "stream",
          "name": "stdout",
          "text": [
            "List of keys: ['name', 'age', 'grade']\n"
          ]
        }
      ]
    },
    {
      "cell_type": "code",
      "source": [
        "student = {\n",
        "    'name':'klrahul',\n",
        "    'age':21,\n",
        "    'grade':'B'\n",
        "}\n",
        "values_list=list(student.values())\n",
        "print(\"List of values:\",values_list)"
      ],
      "metadata": {
        "colab": {
          "base_uri": "https://localhost:8080/"
        },
        "id": "0mwj_Fxpnsi9",
        "outputId": "9f19795b-904e-4b44-89cd-0530a97508da"
      },
      "execution_count": null,
      "outputs": [
        {
          "output_type": "stream",
          "name": "stdout",
          "text": [
            "List of values: ['klrahul', 21, 'B']\n"
          ]
        }
      ]
    },
    {
      "cell_type": "code",
      "source": [
        "student = {\n",
        "    'name':'kl rahul',\n",
        "    'age':21,\n",
        "    'grade':'B'\n",
        "}\n",
        "items_list=list(student.items())\n",
        "print(\"List of key-value pairs:\",items_list)"
      ],
      "metadata": {
        "colab": {
          "base_uri": "https://localhost:8080/"
        },
        "id": "Rtk7M7rBpxM1",
        "outputId": "ec7d6b26-c165-4f5d-c5af-2c5fda736435"
      },
      "execution_count": null,
      "outputs": [
        {
          "output_type": "stream",
          "name": "stdout",
          "text": [
            "List of key-value pairs: [('name', 'kl rahul'), ('age', 21), ('grade', 'B')]\n"
          ]
        }
      ]
    },
    {
      "cell_type": "code",
      "source": [
        "student = {\n",
        "    'name':'kl rahul',\n",
        "    'age':21,\n",
        "    'grade':'B'\n",
        "}\n",
        "if 'grade' in student:\n",
        "    print(\"the key 'grade' is present in the student dictionary\")\n",
        "else:\n",
        "    print(\"the key 'grade' is not present in the student dictionary\")"
      ],
      "metadata": {
        "colab": {
          "base_uri": "https://localhost:8080/"
        },
        "id": "M99PeDE9r73r",
        "outputId": "f1d47827-4e36-47d0-f3bf-85e2498a9e45"
      },
      "execution_count": null,
      "outputs": [
        {
          "output_type": "stream",
          "name": "stdout",
          "text": [
            "the key 'grade' is present in the student dictionary\n"
          ]
        }
      ]
    }
  ]
}