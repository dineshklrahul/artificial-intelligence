{
  "nbformat": 4,
  "nbformat_minor": 0,
  "metadata": {
    "colab": {
      "provenance": []
    },
    "kernelspec": {
      "name": "python3",
      "display_name": "Python 3"
    },
    "language_info": {
      "name": "python"
    }
  },
  "cells": [
    {
      "cell_type": "code",
      "source": [
        "logged_in=True\n",
        "logged_out=False\n",
        "print(\"logged_in:\",logged_in)\n",
        "print(\"logged_out:\",logged_out)"
      ],
      "metadata": {
        "id": "d2xU64q2QK8e",
        "colab": {
          "base_uri": "https://localhost:8080/"
        },
        "outputId": "e5875b90-1587-4fd2-9692-fa2bcec2172f"
      },
      "execution_count": null,
      "outputs": [
        {
          "output_type": "stream",
          "name": "stdout",
          "text": [
            "logged_in: True\n",
            "logged_out: False\n"
          ]
        }
      ]
    },
    {
      "cell_type": "code",
      "source": [
        "num1=7\n",
        "num2=7.1\n",
        "my_name=\"kl rahul\"\n",
        "print(\"num1:\",num1)\n",
        "print(\"num2:\",num2)\n",
        "print(\"my_name:\",my_name)"
      ],
      "metadata": {
        "id": "7gCwX7h4lrWe",
        "colab": {
          "base_uri": "https://localhost:8080/"
        },
        "outputId": "25c28e20-e3f6-46d3-e94d-397ed109e254"
      },
      "execution_count": null,
      "outputs": [
        {
          "output_type": "stream",
          "name": "stdout",
          "text": [
            "num1: 7\n",
            "num2: 7.1\n",
            "my_name: kl rahul\n"
          ]
        }
      ]
    },
    {
      "cell_type": "code",
      "source": [
        "user_name=\"kl rahul\"\n",
        "print(\"User Name:\",user_name)"
      ],
      "metadata": {
        "colab": {
          "base_uri": "https://localhost:8080/"
        },
        "id": "nf35qHHrTiMV",
        "outputId": "4382e3ad-2b6c-4ec1-fa99-3fb2a9028f49"
      },
      "execution_count": null,
      "outputs": [
        {
          "output_type": "stream",
          "name": "stdout",
          "text": [
            "User Name: kl rahul\n"
          ]
        }
      ]
    },
    {
      "cell_type": "code",
      "source": [
        "user_name=input(\"enter your name:\")\n",
        "print(\"User Name:\",user_name)"
      ],
      "metadata": {
        "colab": {
          "base_uri": "https://localhost:8080/"
        },
        "id": "LYNt3TdOUIXi",
        "outputId": "dc1eb9aa-6a1e-4bdb-b2bd-78af794393a1"
      },
      "execution_count": null,
      "outputs": [
        {
          "output_type": "stream",
          "name": "stdout",
          "text": [
            "enter your name:kl rahul\n",
            "User Name: kl rahul\n"
          ]
        }
      ]
    },
    {
      "cell_type": "code",
      "source": [
        "user_age=input(\"enter your age:\")\n",
        "print(\"entered age:\",user_age)"
      ],
      "metadata": {
        "colab": {
          "base_uri": "https://localhost:8080/"
        },
        "id": "n7_aJU4oUhV7",
        "outputId": "9ca03c40-dede-4d69-ead7-f3c4f4c081c7"
      },
      "execution_count": null,
      "outputs": [
        {
          "output_type": "stream",
          "name": "stdout",
          "text": [
            "enter your age:21\n",
            "entered age: 21\n"
          ]
        }
      ]
    },
    {
      "cell_type": "code",
      "source": [
        "num1=int(input(\"enter the first number(num1):\"))\n",
        "num2=int(input(\"enter the second number(num2):\"))\n",
        "sum_result=num1+num2\n",
        "diff_result=num1-num2\n",
        "mult_result=num1*num2\n",
        "div_result=num1/num2\n",
        "exp_result=num1**num2\n",
        "print(\"Sum:\",sum_result)\n",
        "print(\"Difference:\",diff_result)\n",
        "print(\"Product:\",mult_result)\n",
        "print(\"Division:\",div_result)\n",
        "print(\"Exponentiation:\",exp_result)\n"
      ],
      "metadata": {
        "id": "SwnOxzNCVYwb",
        "colab": {
          "base_uri": "https://localhost:8080/"
        },
        "outputId": "9a84c889-dee3-4809-d15a-5d6dd62ddb44"
      },
      "execution_count": null,
      "outputs": [
        {
          "output_type": "stream",
          "name": "stdout",
          "text": [
            "enter the first number(num1):6\n",
            "enter the second number(num2):1\n",
            "Sum: 7\n",
            "Difference: 5\n",
            "Product: 6\n",
            "Division: 6.0\n",
            "Exponentiation: 6\n"
          ]
        }
      ]
    },
    {
      "cell_type": "code",
      "source": [
        "num1=int(input(\"enter the first integer(num1):\"))\n",
        "num2=int(input(\"enter the second integer(num2):\"))\n",
        "modulo_result=num1%num2\n",
        "print(\"Result of the Modulo Operation:\",modulo_result)"
      ],
      "metadata": {
        "id": "T2G1OlrKYBvx",
        "colab": {
          "base_uri": "https://localhost:8080/"
        },
        "outputId": "9c1372e7-f06e-4d42-a65c-515f1f3dd4cc"
      },
      "execution_count": null,
      "outputs": [
        {
          "output_type": "stream",
          "name": "stdout",
          "text": [
            "enter the first integer(num1):1\n",
            "enter the second integer(num2):7\n",
            "Result of the Modulo Operation: 1\n"
          ]
        }
      ]
    },
    {
      "cell_type": "code",
      "source": [
        "num1=int(input(\"enter the first number (num1):\"))\n",
        "num2=int(input(\"enter the second number (num2):\"))\n",
        "equal_result=num1==num2\n",
        "not_equal_result=num1!=num2\n",
        "greater_than_result=num1>num2\n",
        "less_than_result=num1<num2\n",
        "greater_equal_result=num1>=num2\n",
        "less_equal_result=num1<=num2\n",
        "print(\"Equal:\",equal_result)\n",
        "print(\"Not Equal:\",not_equal_result)\n",
        "print(\"Greater Than:\",greater_than_result)\n",
        "print(\"Less Than:\",less_than_result)\n",
        "print(\"Greater Than or Equal:\",greater_equal_result)\n",
        "print(\"Less Than or Equal:\")"
      ],
      "metadata": {
        "id": "5_a4vix2ZytH",
        "colab": {
          "base_uri": "https://localhost:8080/"
        },
        "outputId": "d110a046-2b27-40b2-f0c2-9d4668cec6ed"
      },
      "execution_count": null,
      "outputs": [
        {
          "output_type": "stream",
          "name": "stdout",
          "text": [
            "enter the first number (num1):7\n",
            "enter the second number (num2):1\n",
            "Equal: False\n",
            "Not Equal: True\n",
            "Greater Than: True\n",
            "Less Than: False\n",
            "Greater Than or Equal: True\n",
            "Less Than or Equal:\n"
          ]
        }
      ]
    },
    {
      "cell_type": "code",
      "source": [
        "bool1=bool(input(\"enter the first boolean value(true or false):\"))\n",
        "bool2=bool(input(\"enter the second boolean value(true or false):\"))\n",
        "and_result=bool1 and bool2\n",
        "or_result=bool1 or bool2\n",
        "not_result1=not bool1\n",
        "not_result2=not bool2\n",
        "print(\"AND Result:\",and_result)\n",
        "print(\"OR Result:\",or_result)\n",
        "print(\"NOT Result for bool1:\",not_result1)\n",
        "print(\"NOT Result for bool2:\",not_result2)\n"
      ],
      "metadata": {
        "id": "Bup7GQ7XdKG4",
        "colab": {
          "base_uri": "https://localhost:8080/"
        },
        "outputId": "719203dd-74ec-4104-c689-c6c833cfa33f"
      },
      "execution_count": null,
      "outputs": [
        {
          "output_type": "stream",
          "name": "stdout",
          "text": [
            "enter the first boolean value(true or false):7\n",
            "enter the second boolean value(true or false):7\n",
            "AND Result: True\n",
            "OR Result: True\n",
            "NOT Result for bool1: False\n",
            "NOT Result for bool2: False\n"
          ]
        }
      ]
    },
    {
      "cell_type": "code",
      "source": [
        "var1=[1,2,3,4,5,6,7]\n",
        "var2=[1,2,3,4,5,6,7]\n",
        "is_result=var1 is var2\n",
        "is_not_result=var1 is not var2\n",
        "print(\"Identity (is) Result:\",is_result)\n",
        "print(\"Not Identity (is not) Result:\",is_not_result)"
      ],
      "metadata": {
        "id": "1nnHooZXdKIn",
        "colab": {
          "base_uri": "https://localhost:8080/"
        },
        "outputId": "3c6a4a4d-3ab4-429a-9b72-cef3946b6239"
      },
      "execution_count": null,
      "outputs": [
        {
          "output_type": "stream",
          "name": "stdout",
          "text": [
            "Identity (is) Result: False\n",
            "Not Identity (is not) Result: True\n"
          ]
        }
      ]
    },
    {
      "cell_type": "code",
      "source": [
        "fruits=[\"apple\",\"banana\",\"orange\",\"grape\"]\n",
        "item1=\"banana\"\n",
        "item2=\"watermelon\"\n",
        "in_result1=item1 in fruits\n",
        "in_result2=item2 in fruits\n",
        "not_in_result1=item1 not in fruits\n",
        "not_in_result2=item2 not in fruits\n",
        "print(\"Fruits:\",fruits)\n",
        "print(\"Item1:\",item1)\n",
        "print(\"Item2:\",item2)\n",
        "print(\"Membership (in) Result for Item1:\",in_result1)\n",
        "print(\"Membership (in) Result for Item2:\",in_result2)\n",
        "print(\"Not Membership (not in) Result for Item1:\",not_in_result1)\n",
        "print(\"Not Membership (not in) Result for Item2:\",not_in_result2)"
      ],
      "metadata": {
        "colab": {
          "base_uri": "https://localhost:8080/"
        },
        "id": "WIS-QHCvicHH",
        "outputId": "44c3abfb-3368-4b69-bbe5-7ab08893082d"
      },
      "execution_count": null,
      "outputs": [
        {
          "output_type": "stream",
          "name": "stdout",
          "text": [
            "Fruits: ['apple', 'banana', 'orange', 'grape']\n",
            "Item1: banana\n",
            "Item2: watermelon\n",
            "Membership (in) Result for Item1: True\n",
            "Membership (in) Result for Item2: False\n",
            "Not Membership (not in) Result for Item1: False\n",
            "Not Membership (not in) Result for Item2: True\n"
          ]
        }
      ]
    }
  ]
}