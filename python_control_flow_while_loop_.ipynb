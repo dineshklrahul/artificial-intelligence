{
  "nbformat": 4,
  "nbformat_minor": 0,
  "metadata": {
    "colab": {
      "provenance": []
    },
    "kernelspec": {
      "name": "python3",
      "display_name": "Python 3"
    },
    "language_info": {
      "name": "python"
    }
  },
  "cells": [
    {
      "cell_type": "code",
      "execution_count": null,
      "metadata": {
        "colab": {
          "base_uri": "https://localhost:8080/"
        },
        "id": "b1J5VsWuWvaS",
        "outputId": "0b0b9a07-c3f3-4f2c-8983-d24ec39ada2f"
      },
      "outputs": [
        {
          "output_type": "stream",
          "name": "stdout",
          "text": [
            "enter first no7\n",
            "enter first no7\n",
            "enter first no7\n",
            "enter first no7\n",
            "enter first no7\n",
            "addition is 35\n",
            "average =  7.0\n"
          ]
        }
      ],
      "source": [
        "a=int(input(\"enter first no\"))\n",
        "b=int(input(\"enter first no\"))\n",
        "c=int(input(\"enter first no\"))\n",
        "d=int(input(\"enter first no\"))\n",
        "e=int(input(\"enter first no\"))\n",
        "add=a+b+c+d+e\n",
        "print(\"addition is\",add)\n",
        "average=add/5\n",
        "print(\"average = \",average)"
      ]
    },
    {
      "cell_type": "code",
      "source": [
        "def findHCF(x,y):\n",
        "   if(x>y):\n",
        "     smaller = y\n",
        "   else:\n",
        "     smaller = x\n",
        "   for i in range(1,smaller+1):\n",
        "     if (x%i==0) and (y%i==0):\n",
        "      hcf=i\n",
        "   return hcf\n",
        "print(\"the hcf of the given two number is\",findHCF(6,12))"
      ],
      "metadata": {
        "colab": {
          "base_uri": "https://localhost:8080/"
        },
        "id": "BtYY0Motbltc",
        "outputId": "4de91fbe-c5e2-4147-e29b-62501f25ef29"
      },
      "execution_count": null,
      "outputs": [
        {
          "output_type": "stream",
          "name": "stdout",
          "text": [
            "the hcf of the given two number is 6\n"
          ]
        }
      ]
    },
    {
      "cell_type": "code",
      "source": [
        "\n",
        "for i in range(1,5):\n",
        "  for j in range(i):\n",
        "    print(\"*\", end=\" \")\n",
        "  print()"
      ],
      "metadata": {
        "colab": {
          "base_uri": "https://localhost:8080/"
        },
        "id": "SczA36Yoblvc",
        "outputId": "33f85556-cd5a-4259-f3ed-2588a4e3d2ca"
      },
      "execution_count": null,
      "outputs": [
        {
          "output_type": "stream",
          "name": "stdout",
          "text": [
            "* \n",
            "* * \n",
            "* * * \n",
            "* * * * \n"
          ]
        }
      ]
    },
    {
      "cell_type": "code",
      "source": [
        "rows= int(input(\"enter a number of rows:\"))\n",
        "for row in range(rows+1):\n",
        "  for column in range(row):\n",
        "    print(row,end=\" \")\n",
        "  print()"
      ],
      "metadata": {
        "colab": {
          "base_uri": "https://localhost:8080/"
        },
        "id": "jtlmnLXqfWDu",
        "outputId": "c6fb0fa1-0e04-4d94-e926-c0d4eaf7b535"
      },
      "execution_count": null,
      "outputs": [
        {
          "output_type": "stream",
          "name": "stdout",
          "text": [
            "enter a number of rows:4\n",
            "\n",
            "1 \n",
            "2 2 \n",
            "3 3 3 \n",
            "4 4 4 4 \n"
          ]
        }
      ]
    },
    {
      "cell_type": "code",
      "source": [
        "list=[1,2,3,4,5,6,7]\n",
        "print(\"before sorting:\",list)\n",
        "list.sort()\n",
        "print(\"ascending order:\",list)\n",
        "list.sort(reverse=True)\n",
        "print(\"descending order:\",list)"
      ],
      "metadata": {
        "colab": {
          "base_uri": "https://localhost:8080/"
        },
        "id": "NCtt6oqGgCOH",
        "outputId": "5fdfa848-9696-4f42-cf27-90c65e79d11c"
      },
      "execution_count": null,
      "outputs": [
        {
          "output_type": "stream",
          "name": "stdout",
          "text": [
            "before sorting: [1, 2, 3, 4, 5, 6, 7]\n",
            "ascending order: [1, 2, 3, 4, 5, 6, 7]\n",
            "descending order: [7, 6, 5, 4, 3, 2, 1]\n"
          ]
        }
      ]
    },
    {
      "cell_type": "code",
      "source": [
        "myList = [1,2,3,1]\n",
        "total=0\n",
        "for i in range(0,len(myList)):\n",
        "  total=total+myList[i]\n",
        "  print(\"sum of all elements in given list:\",total)"
      ],
      "metadata": {
        "colab": {
          "base_uri": "https://localhost:8080/"
        },
        "id": "1zXuvhiihLYf",
        "outputId": "cab3a0c8-83b5-4cf2-fa33-1189cefb83b5"
      },
      "execution_count": null,
      "outputs": [
        {
          "output_type": "stream",
          "name": "stdout",
          "text": [
            "sum of all elements in given list: 1\n",
            "sum of all elements in given list: 3\n",
            "sum of all elements in given list: 6\n",
            "sum of all elements in given list: 7\n"
          ]
        }
      ]
    },
    {
      "cell_type": "code",
      "source": [
        "number=float(input(\"enter the number:\"))\n",
        "value=abs(number)\n",
        "print(\"absolute value of\",number,\"is\",value)"
      ],
      "metadata": {
        "colab": {
          "base_uri": "https://localhost:8080/"
        },
        "id": "LmJPIQmfjXDX",
        "outputId": "361c58d4-5233-486d-8afc-e70c35e9c756"
      },
      "execution_count": null,
      "outputs": [
        {
          "output_type": "stream",
          "name": "stdout",
          "text": [
            "enter the number:7.1\n",
            "absolute value of 7.1 is 7.1\n"
          ]
        }
      ]
    },
    {
      "cell_type": "code",
      "source": [
        "number=6.665\n",
        "rounded_number=format(number,\".1f\")\n",
        "print(rounded_number)"
      ],
      "metadata": {
        "colab": {
          "base_uri": "https://localhost:8080/"
        },
        "id": "tX5vh5O7kDFv",
        "outputId": "3e201381-dd23-41ef-8c75-09bb95343dd4"
      },
      "execution_count": null,
      "outputs": [
        {
          "output_type": "stream",
          "name": "stdout",
          "text": [
            "6.7\n"
          ]
        }
      ]
    },
    {
      "cell_type": "code",
      "source": [
        "numbers=[7,1,7,5,6,1]\n",
        "min=numbers[0]\n",
        "max=numbers[0]\n",
        "for i in range(len(numbers)):\n",
        "  if numbers[i]>max:\n",
        "    max=numbers[i]\n",
        "  elif numbers[i]<min:\n",
        "    min=numbers[i]\n",
        "    print(\"min:\",min)\n",
        "    print(\"max:\",max)"
      ],
      "metadata": {
        "colab": {
          "base_uri": "https://localhost:8080/"
        },
        "id": "ekflC5J8mGu2",
        "outputId": "56d884bc-2f88-4257-a123-44fbfe0fe902"
      },
      "execution_count": null,
      "outputs": [
        {
          "output_type": "stream",
          "name": "stdout",
          "text": [
            "min: 1\n",
            "max: 7\n"
          ]
        }
      ]
    },
    {
      "cell_type": "code",
      "source": [
        "print(\"enter your name\")\n",
        "var1=str(input())\n",
        "print(\"your name is\",var1)"
      ],
      "metadata": {
        "colab": {
          "base_uri": "https://localhost:8080/"
        },
        "id": "qVhGUa97oCLn",
        "outputId": "13750c01-733b-4375-fd6d-b5b0f45ede31"
      },
      "execution_count": null,
      "outputs": [
        {
          "output_type": "stream",
          "name": "stdout",
          "text": [
            "enter your name\n",
            "kl rahul\n",
            "your name is kl rahul\n"
          ]
        }
      ]
    },
    {
      "cell_type": "code",
      "source": [
        "str1=input(\"enter the string:\")\n",
        "length=len(str1)\n",
        "print(\"the length of the string is:\",str(length))\n"
      ],
      "metadata": {
        "colab": {
          "base_uri": "https://localhost:8080/"
        },
        "id": "s5FV1lgOo1Au",
        "outputId": "dc475077-cb06-42ec-cf32-08f69f46d96e"
      },
      "execution_count": null,
      "outputs": [
        {
          "output_type": "stream",
          "name": "stdout",
          "text": [
            "enter the string:klrahul\n",
            "the length of the string is: 7\n"
          ]
        }
      ]
    },
    {
      "cell_type": "code",
      "source": [
        "def convert_to_list(seq):\n",
        "    return list(seq)\n",
        "def convert_to_tuple(seq):\n",
        "    return tuple(seq)\n",
        "def convert_to_set(seq):\n",
        "    return set(seq)\n",
        "def convert_to_dictionary(seq):\n",
        "    return {index:value for index,value in enumerate(seq)}\n",
        "example_sequence=[1,2,3,4,5,6,7]\n",
        "list_result=convert_to_list(example_sequence)\n",
        "print(\"list:\",list_result)\n",
        "tuple_result=convert_to_tuple(example_sequence)\n",
        "print(\"tuple:\",tuple_result)\n",
        "set_result=convert_to_set(example_sequence)\n",
        "print(\"set:\",set_result)\n",
        "dict_result=convert_to_dictionary(example_sequence)\n",
        "print(\"dictionary:\",dict_result)"
      ],
      "metadata": {
        "colab": {
          "base_uri": "https://localhost:8080/"
        },
        "id": "8Ecpz3t7KCYy",
        "outputId": "4c416ad2-8fe6-4b1b-ca23-c4773b06863e"
      },
      "execution_count": null,
      "outputs": [
        {
          "output_type": "stream",
          "name": "stdout",
          "text": [
            "list: [1, 2, 3, 4, 5, 6, 7]\n",
            "tuple: (1, 2, 3, 4, 5, 6, 7)\n",
            "set: {1, 2, 3, 4, 5, 6, 7}\n",
            "dictionary: {0: 1, 1: 2, 2: 3, 3: 4, 4: 5, 5: 6, 6: 7}\n"
          ]
        }
      ]
    }
  ]
}