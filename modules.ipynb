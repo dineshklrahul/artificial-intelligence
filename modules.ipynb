{
  "nbformat": 4,
  "nbformat_minor": 0,
  "metadata": {
    "colab": {
      "provenance": []
    },
    "kernelspec": {
      "name": "python3",
      "display_name": "Python 3"
    },
    "language_info": {
      "name": "python"
    }
  },
  "cells": [
    {
      "cell_type": "code",
      "source": [
        "import math\n",
        "def add(x,y):\n",
        "    return x+y\n",
        "def subtract(x,y):\n",
        "    return x-y\n",
        "def multiply(x,y):\n",
        "    return x*y\n",
        "def divide(x,y):\n",
        "    if y==0:\n",
        "        return \"cannot divide by zero\"\n",
        "    return x/y\n",
        "if __name__==\"__main__\":\n",
        "    result_addition=add(6,1)\n",
        "    result_subtraction=subtract(8,1)\n",
        "    result_multiplication=multiply(1,7)\n",
        "    result_division=divide(1,7)\n",
        "    print(\"Addition:\",result_addition)\n",
        "    print(\"Subtraction:\",result_subtraction)\n",
        "    print(\"Multiplication:\",result_multiplication)\n",
        "    print(\"Division:\",result_division)"
      ],
      "metadata": {
        "colab": {
          "base_uri": "https://localhost:8080/"
        },
        "id": "ay7f8KIW4V9s",
        "outputId": "93668486-94bc-4f61-b3d1-7c61636a6e07"
      },
      "execution_count": null,
      "outputs": [
        {
          "output_type": "stream",
          "name": "stdout",
          "text": [
            "Addition: 7\n",
            "Subtraction: 7\n",
            "Multiplication: 7\n",
            "Division: 0.14285714285714285\n"
          ]
        }
      ]
    },
    {
      "cell_type": "code",
      "execution_count": null,
      "metadata": {
        "colab": {
          "base_uri": "https://localhost:8080/"
        },
        "id": "7w3o-HwSsCWp",
        "outputId": "fd221e8a-f540-467c-cdbe-23c6edd34cf8"
      },
      "outputs": [
        {
          "output_type": "stream",
          "name": "stdout",
          "text": [
            "addition: 7\n",
            "subtraction: 7\n",
            "Multiplication: 7\n",
            "Division: 0.14285714285714285\n",
            "value of pi: 3.14159\n"
          ]
        }
      ],
      "source": [
        "pi = 3.14159\n",
        "def add(x,y):\n",
        "    return x+y\n",
        "def subtract(x,y):\n",
        "    return x-y\n",
        "def multiply(x,y):\n",
        "    return x*y\n",
        "def divide(x,y):\n",
        "    if y==0:\n",
        "        return \"cannot divide by zero\"\n",
        "    return x/y\n",
        "if __name__==\"__main__\":\n",
        "    result_addition=add(6,1)\n",
        "    result_subtraction=subtract(8,1)\n",
        "    result_multiplication=multiply(1,7)\n",
        "    result_division=divide(1,7)\n",
        "    print(\"Addition:\",result_addition)\n",
        "    print(\"Subtraction:\",result_subtraction)\n",
        "    print(\"Multiplication:\",result_multiplication)\n",
        "    print(\"Division:\",result_division)\n",
        "    print(\"value of pi:\",pi)"
      ]
    },
    {
      "cell_type": "code",
      "source": [
        "import math\n",
        "result_addition=add(6,1)\n",
        "print(\"Addition:\",result_addition)\n"
      ],
      "metadata": {
        "colab": {
          "base_uri": "https://localhost:8080/"
        },
        "id": "iF9XOq116021",
        "outputId": "e1c545cf-2ddf-42a0-e284-ef03987c681a"
      },
      "execution_count": null,
      "outputs": [
        {
          "output_type": "stream",
          "name": "stdout",
          "text": [
            "Addition: 7\n"
          ]
        }
      ]
    },
    {
      "cell_type": "code",
      "source": [
        "import math\n",
        "result_addition=add(6,1)\n",
        "result_subtraction=subtract(8,1)\n",
        "result_multiplication=multiply(1,7)\n",
        "result_division=divide(1,7)\n",
        "print(\"Addition:\",result_addition)\n",
        "print(\"Subtraction:\",result_subtraction)\n",
        "print(\"Multiplication:\",result_multiplication)\n",
        "print(\"Division:\",result_division)"
      ],
      "metadata": {
        "colab": {
          "base_uri": "https://localhost:8080/"
        },
        "id": "0xMH6Ghr8tL5",
        "outputId": "e4a243e4-6ba0-4288-c18b-bf941c32df04"
      },
      "execution_count": null,
      "outputs": [
        {
          "output_type": "stream",
          "name": "stdout",
          "text": [
            "Addition: 7\n",
            "Subtraction: 7\n",
            "Multiplication: 7\n",
            "Division: 0.14285714285714285\n"
          ]
        }
      ]
    },
    {
      "cell_type": "code",
      "source": [
        "speed_of_light=3.0e8\n",
        "gravity=9.8\n",
        "if __name__==\"__main__\":\n",
        "    print(\"Speed of light:\",speed_of_light,\"m/s\")\n",
        "    print(\"Gravity:\",gravity,\"m/s^2\")"
      ],
      "metadata": {
        "colab": {
          "base_uri": "https://localhost:8080/"
        },
        "id": "a7aKHwYj_tl1",
        "outputId": "73fe5d5f-eb3a-4c4a-fa9d-6e95d20afacd"
      },
      "execution_count": null,
      "outputs": [
        {
          "output_type": "stream",
          "name": "stdout",
          "text": [
            "Speed of light: 300000000.0 m/s\n",
            "Gravity: 9.8 m/s^2\n"
          ]
        }
      ]
    },
    {
      "cell_type": "code",
      "source": [
        "speed_of_light=3.0e8\n",
        "gravity=9.8\n",
        "def calculate_potential_energy(mass,height):\n",
        "    return mass*gravity*height\n",
        "if __name__==\"__main__\":\n",
        "    object_mass=10\n",
        "    object_height=5\n",
        "    potential_energy=calculate_potential_energy(object_mass,object_height)\n",
        "    print(\"potential energy:\",potential_energy,\"joules\")\n"
      ],
      "metadata": {
        "id": "kAUtr1VdSWZB",
        "colab": {
          "base_uri": "https://localhost:8080/"
        },
        "outputId": "1acbae6d-d3cb-4201-f101-18bce73673e5"
      },
      "execution_count": null,
      "outputs": [
        {
          "output_type": "stream",
          "name": "stdout",
          "text": [
            "potential energy: 490.0 joules\n"
          ]
        }
      ]
    },
    {
      "cell_type": "code",
      "source": [
        "import math\n",
        "def square_area(side_length):\n",
        "    return side_length**2\n",
        "def circle_area(radius):\n",
        "    return math.pi*radius**2\n",
        "if __name__==\"__main__\":\n",
        "    side_length=1\n",
        "    radius=7\n",
        "    square_result=square_area(side_length)\n",
        "    print(f\"area of square with side length {side_length}: {square_result}\")\n",
        "    circle_result=circle_area(radius)\n",
        "    print(f\"area of circle with radius {radius}: {circle_result}\")"
      ],
      "metadata": {
        "colab": {
          "base_uri": "https://localhost:8080/"
        },
        "id": "1yMMyEaVahID",
        "outputId": "db385848-2f15-4841-ebf5-ca6e650af2e4"
      },
      "execution_count": null,
      "outputs": [
        {
          "output_type": "stream",
          "name": "stdout",
          "text": [
            "area of square with side length 1: 1\n",
            "area of circle with radius 7: 153.93804002589985\n"
          ]
        }
      ]
    },
    {
      "cell_type": "code",
      "source": [
        "import math\n",
        "def square_area(side_length):\n",
        "    return side_length**2\n",
        "def circle_area(radius):\n",
        "    return math.pi*radius**2\n",
        "if __name__==\"__main__\":\n",
        "    side_length=1\n",
        "    radius=7\n",
        "    square_result=square_area(side_length)\n",
        "    print(f\"area of square with side length {side_length}: {square_result} square units\")\n",
        "    circle_result=circle_area(radius)\n",
        "    print(f\"area of circle with radius {radius}: {circle_result} square units\")"
      ],
      "metadata": {
        "colab": {
          "base_uri": "https://localhost:8080/"
        },
        "id": "c9fFc8e7gKFn",
        "outputId": "ab984ab8-907a-4226-f666-2389d135cf7e"
      },
      "execution_count": null,
      "outputs": [
        {
          "output_type": "stream",
          "name": "stdout",
          "text": [
            "area of square with side length 1: 1 square units\n",
            "area of circle with radius 7: 153.93804002589985 square units\n"
          ]
        }
      ]
    },
    {
      "cell_type": "code",
      "source": [
        "class Person:\n",
        "    def __init__(self,name,age):\n",
        "        self.name=name\n",
        "        self.age=age\n",
        "if __name__==\"__main__\":\n",
        "    person1=Person(name=\"kl rahul\",age=21)\n",
        "    print(\"name:\",person1.name)\n",
        "    print(\"age:\",person1.age)"
      ],
      "metadata": {
        "colab": {
          "base_uri": "https://localhost:8080/"
        },
        "id": "dysZOANTjjmn",
        "outputId": "44942ec7-2bd0-423a-cdca-b015a1372a3c"
      },
      "execution_count": null,
      "outputs": [
        {
          "output_type": "stream",
          "name": "stdout",
          "text": [
            "name: kl rahul\n",
            "age: 21\n"
          ]
        }
      ]
    },
    {
      "cell_type": "code",
      "source": [
        "class Person:\n",
        "    def __init__(self,name,age):\n",
        "        self.name=name\n",
        "        self.age=age\n",
        "    def display_info(self):\n",
        "        print(f\"name: {self.name},age:{self.age}\")\n",
        "if __name__==\"__main__\":\n",
        "    person1=Person(name=\"kl rahul\",age=21)\n",
        "    person1.display_info()"
      ],
      "metadata": {
        "colab": {
          "base_uri": "https://localhost:8080/"
        },
        "id": "7DmF8CEwmFo3",
        "outputId": "fb728c0a-0f3a-4337-ec82-b401dd745d2b"
      },
      "execution_count": null,
      "outputs": [
        {
          "output_type": "stream",
          "name": "stdout",
          "text": [
            "name: kl rahul,age:21\n"
          ]
        }
      ]
    },
    {
      "cell_type": "code",
      "source": [
        "import math\n",
        "class Circle:\n",
        "    def __init__(self,radius):\n",
        "        self.radius=radius\n",
        "    def calculate_area(self):\n",
        "        area=math.pi*self.radius**2\n",
        "        return area\n",
        "if __name__==\"__main__\":\n",
        "    circle1=Circle(radius=7)\n",
        "    area_result=circle1.calculate_area()\n",
        "    print(f\"area of the circle with radius {circle1.radius}: {area_result} square units\")"
      ],
      "metadata": {
        "colab": {
          "base_uri": "https://localhost:8080/"
        },
        "id": "xGEfSfc9oJef",
        "outputId": "a1d18210-ad17-40a3-f4af-18beae2cf061"
      },
      "execution_count": null,
      "outputs": [
        {
          "output_type": "stream",
          "name": "stdout",
          "text": [
            "area of the circle with radius 7: 153.93804002589985 square units\n"
          ]
        }
      ]
    },
    {
      "cell_type": "code",
      "source": [
        "from pathlib import WindowsPath\n",
        "class Rectangle:\n",
        "    def __init__(self,length,width):\n",
        "        self.length=length\n",
        "        self.width=width\n",
        "    def calculate_area(self):\n",
        "        area=self.length*self.width\n",
        "        return area\n",
        "if __name__==\"__main__\":\n",
        "    rectangle1=Rectangle(length=4,width=1)\n",
        "    area_result=rectangle1.calculate_area()\n",
        "    print(f\"area of the rectangle with length {rectangle1.length} and width {rectangle1.width}: {area_result} square units\")\n"
      ],
      "metadata": {
        "colab": {
          "base_uri": "https://localhost:8080/"
        },
        "id": "eui_tGiapyNt",
        "outputId": "bb67409f-7ece-4652-a0ad-94e275d0ffb0"
      },
      "execution_count": null,
      "outputs": [
        {
          "output_type": "stream",
          "name": "stdout",
          "text": [
            "area of the rectangle with length 4 and width 1: 4 square units\n"
          ]
        }
      ]
    },
    {
      "cell_type": "code",
      "source": [
        "class Book:\n",
        "    def __init__(self,title,author):\n",
        "        self.title=title\n",
        "        self.author=author\n",
        "    def display_info(self):\n",
        "        print(f\"title:{self.title}\\nauthor: {self.author}\")\n",
        "if __name__==\"__main__\":\n",
        "    book1=Book(title=\"python programming\",author=\"kl rahul\")\n",
        "    book1.display_info()\n"
      ],
      "metadata": {
        "colab": {
          "base_uri": "https://localhost:8080/"
        },
        "id": "05cZ33FWs9YI",
        "outputId": "c08bad52-64c0-4fff-9ce4-ffa150e0d24b"
      },
      "execution_count": null,
      "outputs": [
        {
          "output_type": "stream",
          "name": "stdout",
          "text": [
            "title:python programming\n",
            "author: kl rahul\n"
          ]
        }
      ]
    },
    {
      "cell_type": "code",
      "source": [
        "class LogFile:\n",
        "    def __init__(self,filename):\n",
        "        self.filename=filename\n",
        "        print(f\"logfile instance created for {self.filename}\")\n",
        "    def __del__(self):\n",
        "        print(f\"logfile instance for {self.filename} deleted\")\n",
        "if __name__==\"__main__\":\n",
        "    log_file1=LogFile(filename=\"app_log.txt\")\n",
        "    del log_file1"
      ],
      "metadata": {
        "colab": {
          "base_uri": "https://localhost:8080/"
        },
        "id": "-qmNpa0KwR1-",
        "outputId": "24dd61b4-b669-431f-b757-c963f62d37fc"
      },
      "execution_count": null,
      "outputs": [
        {
          "output_type": "stream",
          "name": "stdout",
          "text": [
            "logfile instance created for app_log.txt\n",
            "logfile instance for app_log.txt deleted\n"
          ]
        }
      ]
    }
  ]
}