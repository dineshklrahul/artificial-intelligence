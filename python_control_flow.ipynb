{
  "nbformat": 4,
  "nbformat_minor": 0,
  "metadata": {
    "colab": {
      "provenance": []
    },
    "kernelspec": {
      "name": "python3",
      "display_name": "Python 3"
    },
    "language_info": {
      "name": "python"
    }
  },
  "cells": [
    {
      "cell_type": "code",
      "source": [
        "num1=1\n",
        "num2=7\n",
        "if(num1>num2):\n",
        "  print(num1,\"is greater than 7\")\n",
        "else:\n",
        "  print(num2,\"is greater than 1\")"
      ],
      "metadata": {
        "colab": {
          "base_uri": "https://localhost:8080/"
        },
        "id": "t7x923hi0K_H",
        "outputId": "89e25b08-585b-456c-90a4-7ab85081b191"
      },
      "execution_count": null,
      "outputs": [
        {
          "output_type": "stream",
          "name": "stdout",
          "text": [
            "7 is greater than 1\n"
          ]
        }
      ]
    },
    {
      "cell_type": "code",
      "source": [
        "number=int(input(\"enter a number:\"))\n",
        "if(number%2)==0:\n",
        "  print(\"{0} is even number\".format(number))\n",
        "else:\n",
        "  print(\"{0} is odd number\".format(number))"
      ],
      "metadata": {
        "colab": {
          "base_uri": "https://localhost:8080/"
        },
        "id": "EGyuIC2x1TyW",
        "outputId": "73f1f40b-ac74-430f-83a7-c3a9cdf36f23"
      },
      "execution_count": null,
      "outputs": [
        {
          "output_type": "stream",
          "name": "stdout",
          "text": [
            "enter a number:7\n",
            "7 is odd number\n"
          ]
        }
      ]
    },
    {
      "cell_type": "code",
      "source": [
        "num=float(input(\"enter the number\"))\n",
        "if(num>0):\n",
        "  print(\"positive number\")\n",
        "elif(num==0):\n",
        "  print(\"zero\")\n",
        "else:\n",
        "  print(\"negative number\")"
      ],
      "metadata": {
        "colab": {
          "base_uri": "https://localhost:8080/"
        },
        "id": "mvIBlU5y2uEz",
        "outputId": "3260f916-b63e-47d0-a5c7-a0dc9aace4b6"
      },
      "execution_count": null,
      "outputs": [
        {
          "output_type": "stream",
          "name": "stdout",
          "text": [
            "enter the number7\n",
            "positive number\n"
          ]
        }
      ]
    },
    {
      "cell_type": "code",
      "source": [
        "year=int(input(\"year:\"))\n",
        "if (year%4==0) and (year%100!=0) or (year%400==0):\n",
        "  print(\"given year is leap year\")\n",
        "else:\n",
        "  print(\"not a leap year\")"
      ],
      "metadata": {
        "colab": {
          "base_uri": "https://localhost:8080/"
        },
        "id": "RNpId7KO7BcI",
        "outputId": "7bade61b-cf83-4438-bcb7-d57bb09a4744"
      },
      "execution_count": null,
      "outputs": [
        {
          "output_type": "stream",
          "name": "stdout",
          "text": [
            "year:2021\n",
            "not a leap year\n"
          ]
        }
      ]
    },
    {
      "cell_type": "code",
      "source": [
        "n=int(input(\"enter the number:\"))\n",
        "for i in range(1,8):\n",
        "  print(n,\"*\",i,\"=\",n*i)"
      ],
      "metadata": {
        "colab": {
          "base_uri": "https://localhost:8080/"
        },
        "id": "BlUDjEWd70Ic",
        "outputId": "64976f4d-2a13-4f59-f305-62af541e517f"
      },
      "execution_count": null,
      "outputs": [
        {
          "output_type": "stream",
          "name": "stdout",
          "text": [
            "enter the number:5\n",
            "5 * 1 = 5\n",
            "5 * 2 = 10\n",
            "5 * 3 = 15\n",
            "5 * 4 = 20\n",
            "5 * 5 = 25\n",
            "5 * 6 = 30\n",
            "5 * 7 = 35\n"
          ]
        }
      ]
    },
    {
      "cell_type": "code",
      "source": [
        "total=int(input(\"enter a total\"))\n",
        "if(total>=90 and total<=100):\n",
        "  print(\" s grade\")\n",
        "elif(total>=80 and total<90):\n",
        "  print(\" a grade\")\n",
        "elif(total>=70 and total<80):\n",
        "  print(\" b grade\")\n",
        "elif(total>=60 and total<70):\n",
        "  print(\" c  grade\")\n",
        "else:\n",
        "  print(\" z  grade\")"
      ],
      "metadata": {
        "colab": {
          "base_uri": "https://localhost:8080/"
        },
        "id": "60_9j96x70Kj",
        "outputId": "4af01b38-023d-4b9f-9544-13d709b7acb8"
      },
      "execution_count": null,
      "outputs": [
        {
          "output_type": "stream",
          "name": "stdout",
          "text": [
            "enter a total71\n",
            " b grade\n"
          ]
        }
      ]
    },
    {
      "cell_type": "code",
      "source": [
        "total=int(input(\"enter a total\"))\n",
        "if(total>=0 and total<=1):\n",
        "  print(\"freezing\")\n",
        "elif(total>=0 and total<=18):\n",
        "  print(\"cold\")\n",
        "elif(total>=18 and total<=30):\n",
        "  print(\"warm\")\n",
        "elif(total>=30 and total<=21):\n",
        "  print(\"hot\")"
      ],
      "metadata": {
        "colab": {
          "base_uri": "https://localhost:8080/"
        },
        "id": "n5Zv2AbdBLYC",
        "outputId": "fc386999-9962-4760-ef3d-032c643348da"
      },
      "execution_count": null,
      "outputs": [
        {
          "output_type": "stream",
          "name": "stdout",
          "text": [
            "enter a total7\n",
            "cold\n"
          ]
        }
      ]
    },
    {
      "cell_type": "code",
      "source": [
        "for i in range(1,8):\n",
        "  print(i)"
      ],
      "metadata": {
        "colab": {
          "base_uri": "https://localhost:8080/"
        },
        "id": "gVkDYE79C4Kj",
        "outputId": "91628f4c-0ccc-4028-ebc9-53fe85d4628b"
      },
      "execution_count": null,
      "outputs": [
        {
          "output_type": "stream",
          "name": "stdout",
          "text": [
            "1\n",
            "2\n",
            "3\n",
            "4\n",
            "5\n",
            "6\n",
            "7\n"
          ]
        }
      ]
    },
    {
      "cell_type": "code",
      "source": [
        "num=int(input(\"enter a number:\"))\n",
        "fact=1\n",
        "for i in range(1,num+1):\n",
        "  fact=fact*i\n",
        "print(\"the factorial of a number is :\",fact)"
      ],
      "metadata": {
        "colab": {
          "base_uri": "https://localhost:8080/"
        },
        "id": "Kp2GBjSzEawp",
        "outputId": "6a538ae1-e2b0-4367-e99e-6b8828aa5678"
      },
      "execution_count": null,
      "outputs": [
        {
          "output_type": "stream",
          "name": "stdout",
          "text": [
            "enter a number:7\n",
            "the factorial of a number is : 5040\n"
          ]
        }
      ]
    }
  ]
}