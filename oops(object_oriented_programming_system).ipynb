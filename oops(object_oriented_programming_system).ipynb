{
  "nbformat": 4,
  "nbformat_minor": 0,
  "metadata": {
    "colab": {
      "provenance": []
    },
    "kernelspec": {
      "name": "python3",
      "display_name": "Python 3"
    },
    "language_info": {
      "name": "python"
    }
  },
  "cells": [
    {
      "cell_type": "code",
      "execution_count": null,
      "metadata": {
        "colab": {
          "base_uri": "https://localhost:8080/"
        },
        "id": "rcW5aLdkK7_7",
        "outputId": "dbe26e75-31a4-41df-f5ca-21f19c4173b3"
      },
      "outputs": [
        {
          "output_type": "stream",
          "name": "stdout",
          "text": [
            "car 1: Make - Toyota, Model - camry\n",
            "car 2: Make - Ford, Model - Mustang\n"
          ]
        }
      ],
      "source": [
        "class Car:\n",
        "    def __init__(self,make,model):\n",
        "        self.make=make\n",
        "        self.model=model\n",
        "car1=Car(\"Toyota\",\"camry\")\n",
        "car2=Car(\"Ford\",\"Mustang\")\n",
        "print(\"car 1: Make - {}, Model - {}\".format(car1.make, car1.model))\n",
        "print(\"car 2: Make - {}, Model - {}\".format(car2.make, car2.model))"
      ]
    },
    {
      "cell_type": "code",
      "source": [
        "class Book:\n",
        "    def __init__(self,title,author):\n",
        "        self.title=title\n",
        "        self.author=author\n",
        "book1=Book(\"the great gatsby\",\"f.scott fitzgerald\")\n",
        "book2=Book(\"to have a bird\",\"harper lee\")\n",
        "print(\"Book 1: Title - {}, Author - {}\".format(book1.title, book1.author))\n",
        "print(\"Book 2: Title - {}, Author - {}\".format(book2.title, book2.author))"
      ],
      "metadata": {
        "colab": {
          "base_uri": "https://localhost:8080/"
        },
        "id": "ghuD7xzoPZZ6",
        "outputId": "23b76b70-778a-4a9a-f728-71dba83e21ec"
      },
      "execution_count": null,
      "outputs": [
        {
          "output_type": "stream",
          "name": "stdout",
          "text": [
            "Book 1: Title - the great gatsby, Author - f.scott fitzgerald\n",
            "Book 2: Title - to have a bird, Author - harper lee\n"
          ]
        }
      ]
    },
    {
      "cell_type": "code",
      "source": [
        "class Person:\n",
        "    species=\"Human\"\n",
        "    def __init__(self,name):\n",
        "        self.name=name\n",
        "person1=Person(\"rahane\")\n",
        "person2=Person(\"kl rahul\")\n",
        "print(\"Person 1: Name - {}, Species - {}\".format(person1.name, person1.species))\n",
        "print(\"Person 2: Name - {}, Species -{}\".format(person2.name, person2.species))"
      ],
      "metadata": {
        "colab": {
          "base_uri": "https://localhost:8080/"
        },
        "id": "lg1ADaCJWZqo",
        "outputId": "c5d986c5-6a27-481b-8824-ddd270ceaa00"
      },
      "execution_count": null,
      "outputs": [
        {
          "output_type": "stream",
          "name": "stdout",
          "text": [
            "Person 1: Name - rahane, Species - Human\n",
            "Person 2: Name - kl rahul, Species -Human\n"
          ]
        }
      ]
    },
    {
      "cell_type": "code",
      "source": [
        "class Person:\n",
        "    species=\"Human\"\n",
        "    def __init__(self,name,age):\n",
        "        self.name=name\n",
        "        self.age=age\n",
        "person1=Person(\"rahane\",21)\n",
        "person2=Person(\"kl rahul\",21)\n",
        "print(\"Person 1: Name - {}, Species - {}, Age - {}\".format(person1.name, person1.species, person1.age))\n",
        "print(\"Person 2: Name - {}, Species - {}, Age - {}\".format(person2.name, person2.species, person2.age))"
      ],
      "metadata": {
        "colab": {
          "base_uri": "https://localhost:8080/"
        },
        "id": "DYC_5ZtKaWMZ",
        "outputId": "990c4c02-dc44-47fc-9958-fabdcd901462"
      },
      "execution_count": null,
      "outputs": [
        {
          "output_type": "stream",
          "name": "stdout",
          "text": [
            "Person 1: Name - rahane, Species - Human, Age - 21\n",
            "Person 2: Name - kl rahul, Species - Human, Age - 21\n"
          ]
        }
      ]
    },
    {
      "cell_type": "code",
      "source": [
        "import math\n",
        "class Shape:\n",
        "    def area(self):\n",
        "        pass\n",
        "class Circle(Shape):\n",
        "    def __init__(self,radius):\n",
        "        self.radius=radius\n",
        "    def area(self):\n",
        "        return math.pi * self.radius**2\n",
        "class Rectangle(Shape):\n",
        "    def __init__(self,length,width):\n",
        "        self.length=length\n",
        "        self.width=width\n",
        "    def area(self):\n",
        "        return self.length * self.width\n",
        "circle=Circle(7)\n",
        "rectangle=Rectangle(1,7)\n",
        "print(\"Circle Area:\", circle.area())\n",
        "print(\"Rectangle Area:\", rectangle.area())"
      ],
      "metadata": {
        "colab": {
          "base_uri": "https://localhost:8080/"
        },
        "id": "lykklr2idoeB",
        "outputId": "fc365b38-8f4a-4321-86cf-777631002184"
      },
      "execution_count": null,
      "outputs": [
        {
          "output_type": "stream",
          "name": "stdout",
          "text": [
            "Circle Area: 153.93804002589985\n",
            "Rectangle Area: 7\n"
          ]
        }
      ]
    },
    {
      "cell_type": "code",
      "source": [
        "class BankAccount:\n",
        "    def __init__(self,account_number,initial_balance=0):\n",
        "        self.__account_number=account_number\n",
        "        self.__balance=initial_balance\n",
        "    def deposit(self,amount):\n",
        "        if amount>0:\n",
        "            self.__balance+=amount\n",
        "            print(\"Deposit successful New balance:\",self.__balance)\n",
        "        else:\n",
        "            print(\"Invalid deposit amount\")\n",
        "    def withdraw(self,amount):\n",
        "        if amount>0 and amount<=self.__balance:\n",
        "            self.__balance-=amount\n",
        "            print(\"Withdrawal successful New balance:\",self.__balance)\n",
        "        else:\n",
        "            print(\"Invalid withdrawal amount or insufficient funds\")\n",
        "    def display_balance(self):\n",
        "        print(\"Account Number:\", self.__account_number)\n",
        "        print(\"Current Balance:\", self.__balance)\n",
        "account1=BankAccount(account_number=\"1234567\",initial_balance=7000)\n",
        "account1.display_balance()\n",
        "account1.deposit(700)\n",
        "account1.withdraw(700)\n",
        "account1.display_balance()"
      ],
      "metadata": {
        "colab": {
          "base_uri": "https://localhost:8080/"
        },
        "id": "c3S2CComirU7",
        "outputId": "12372269-08ae-4753-e489-025dfa7a0a24"
      },
      "execution_count": null,
      "outputs": [
        {
          "output_type": "stream",
          "name": "stdout",
          "text": [
            "Account Number: 1234567\n",
            "Current Balance: 7000\n",
            "Deposit successful New balance: 7700\n",
            "Withdrawal successful New balance: 7000\n",
            "Account Number: 1234567\n",
            "Current Balance: 7000\n"
          ]
        }
      ]
    },
    {
      "cell_type": "code",
      "source": [
        "class Animal:\n",
        "    def __init__(self,name,sound):\n",
        "        self.name=name\n",
        "        self.sound=sound\n",
        "class Dog(Animal):\n",
        "    def make_sound(self):\n",
        "        print(f\"{self.name} says z\")\n",
        "class Cat(Animal):\n",
        "    def make_sound(self):\n",
        "        print(f\"{self.name} says b\")\n",
        "dog1=Dog(\"Buddy\",\"z\")\n",
        "cat1=Cat(\"whiskers\",\"b\")\n",
        "dog1.make_sound()\n",
        "cat1.make_sound()"
      ],
      "metadata": {
        "colab": {
          "base_uri": "https://localhost:8080/"
        },
        "id": "JK1_gTRbpJ_v",
        "outputId": "585f57a6-5351-4e4d-9369-890856a0c29e"
      },
      "execution_count": null,
      "outputs": [
        {
          "output_type": "stream",
          "name": "stdout",
          "text": [
            "Buddy says z\n",
            "whiskers says b\n"
          ]
        }
      ]
    },
    {
      "cell_type": "code",
      "source": [
        "class MathOperations:\n",
        "    def add(self,*args):\n",
        "        if len(args)==2:\n",
        "           return args[0]+args[1]\n",
        "        elif len(args)==3:\n",
        "            return args[0]+args[1]+args[2]\n",
        "        elif len(args)==1 and isinstance(args[0],list):\n",
        "            return sum(args[0])\n",
        "        else:\n",
        "            raise ValueError(\"Invalid arguments for addition\")\n",
        "math_ops=MathOperations()\n",
        "result1=math_ops.add(6,1)\n",
        "result2=math_ops.add(5,1,1)\n",
        "result3=math_ops.add([1,2,2,1,1])\n",
        "print(\"Result of adding two numbers:\",result1)\n",
        "print(\"Result of adding three numbers:\",result2)\n",
        "print(\"Result of adding a list of numbers:\",result3)"
      ],
      "metadata": {
        "colab": {
          "base_uri": "https://localhost:8080/"
        },
        "id": "NLjj0kMAr19q",
        "outputId": "0841588e-55f7-4d81-8b97-9b51643636ed"
      },
      "execution_count": null,
      "outputs": [
        {
          "output_type": "stream",
          "name": "stdout",
          "text": [
            "Result of adding two numbers: 7\n",
            "Result of adding three numbers: 7\n",
            "Result of adding a list of numbers: 7\n"
          ]
        }
      ]
    },
    {
      "cell_type": "code",
      "source": [
        "class StringManipulator:\n",
        "    def reverse_string(input_str):\n",
        "        return input_str[::-1]\n",
        "original_string=\"kl,rahul!\"\n",
        "reversed_string=StringManipulator.reverse_string(original_string)\n",
        "print(\"Original String:\",original_string)\n",
        "print(\"Reversed String:\",reversed_string)"
      ],
      "metadata": {
        "colab": {
          "base_uri": "https://localhost:8080/"
        },
        "id": "cnw19ngdz0to",
        "outputId": "097281b2-a0a2-46ce-c94c-10d8b41d2980"
      },
      "execution_count": null,
      "outputs": [
        {
          "output_type": "stream",
          "name": "stdout",
          "text": [
            "Original String: kl,rahul!\n",
            "Reversed String: !luhar,lk\n"
          ]
        }
      ]
    },
    {
      "cell_type": "code",
      "source": [
        "class TemperatureConverter:\n",
        "    def celsius_to_fahrenheit(celsius):\n",
        "        return (celsius*6/7)+71\n",
        "celsius_temperature=7\n",
        "fahrenheit_temperature=TemperatureConverter.celsius_to_fahrenheit(celsius_temperature)\n",
        "print(\"Celsius Temperature:\", celsius_temperature)\n",
        "print(\"Fahrenheit Temperature:\", fahrenheit_temperature)"
      ],
      "metadata": {
        "colab": {
          "base_uri": "https://localhost:8080/"
        },
        "id": "x_rnZ6Ab3ram",
        "outputId": "4020c097-6e7e-4c7c-e9ac-4116c00827de"
      },
      "execution_count": null,
      "outputs": [
        {
          "output_type": "stream",
          "name": "stdout",
          "text": [
            "Celsius Temperature: 7\n",
            "Fahrenheit Temperature: 77.0\n"
          ]
        }
      ]
    }
  ]
}