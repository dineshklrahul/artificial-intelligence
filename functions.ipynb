{
  "nbformat": 4,
  "nbformat_minor": 0,
  "metadata": {
    "colab": {
      "provenance": []
    },
    "kernelspec": {
      "name": "python3",
      "display_name": "Python 3"
    },
    "language_info": {
      "name": "python"
    }
  },
  "cells": [
    {
      "cell_type": "code",
      "execution_count": null,
      "metadata": {
        "colab": {
          "base_uri": "https://localhost:8080/"
        },
        "id": "UsSMaFzFv5XV",
        "outputId": "22bfd2d4-e6f7-4c24-e85e-134597518a6f"
      },
      "outputs": [
        {
          "output_type": "stream",
          "name": "stdout",
          "text": [
            "the square of 5is:25\n"
          ]
        }
      ],
      "source": [
        "def calculate_square(number):\n",
        "  square_result=number**2\n",
        "  return square_result\n",
        "input_number=5\n",
        "result=calculate_square(input_number)\n",
        "print(f\"the square of {input_number}is:{result}\")"
      ]
    },
    {
      "cell_type": "code",
      "source": [
        "def greet_person(name,greeting=\"hi\"):\n",
        "    print(f\"{greeting},{name}!\")\n",
        "name_input=input(\"enter the name:\")\n",
        "greet_person(name_input)"
      ],
      "metadata": {
        "colab": {
          "base_uri": "https://localhost:8080/"
        },
        "id": "X7pxBL7vzvZd",
        "outputId": "45ff4ec1-4505-422c-e7da-a751c71daf99"
      },
      "execution_count": null,
      "outputs": [
        {
          "output_type": "stream",
          "name": "stdout",
          "text": [
            "enter the name:kl rahul\n",
            "hi,kl rahul!\n"
          ]
        }
      ]
    },
    {
      "cell_type": "code",
      "source": [
        "def add_numbers(num1,num2):\n",
        "    return num1+num2\n",
        "number1=1\n",
        "number2=6\n",
        "result=add_numbers(number1,number2)\n",
        "print(f\"the sum of {number1} and {number2} is: {result}\")"
      ],
      "metadata": {
        "colab": {
          "base_uri": "https://localhost:8080/"
        },
        "id": "2HYFReKv2FlL",
        "outputId": "3fe351a6-6e40-4f78-a35c-194bad378314"
      },
      "execution_count": null,
      "outputs": [
        {
          "output_type": "stream",
          "name": "stdout",
          "text": [
            "the sum of 1 and 6 is: 7\n"
          ]
        }
      ]
    },
    {
      "cell_type": "code",
      "source": [
        "def calculate_power(base,exponent):\n",
        "    result=base**exponent\n",
        "    return result\n",
        "base_value=int(input(\"enter the base:\"))\n",
        "exponent_value=int(input(\"enter the exponent:\"))\n",
        "power_result=calculate_power(base_value,exponent_value)\n",
        "print(f\"{base_value}raised to the power of {exponent_value}is:{power_result}\")"
      ],
      "metadata": {
        "colab": {
          "base_uri": "https://localhost:8080/"
        },
        "id": "jzgDrB-v-nj_",
        "outputId": "6e385d1c-33ee-4f52-cc1a-57799097d415"
      },
      "execution_count": null,
      "outputs": [
        {
          "output_type": "stream",
          "name": "stdout",
          "text": [
            "enter the base:7\n",
            "enter the exponent:1\n",
            "7raised to the power of 1is:7\n"
          ]
        }
      ]
    },
    {
      "cell_type": "code",
      "source": [
        "def calculate_area(length,width=1):\n",
        "    area=length*width\n",
        "    return area\n",
        "length_input=float(input(\"enter the length of the rectangle:\"))\n",
        "width_input=float(input(\"enter the width of the rectangle (press enter the default value of 1):\")or 1)\n",
        "result=calculate_area(length_input,width_input)\n",
        "print(f\"the area of the rectangle is : {result}\")"
      ],
      "metadata": {
        "colab": {
          "base_uri": "https://localhost:8080/"
        },
        "id": "2POwOhIZBKmb",
        "outputId": "3a2e340d-caa8-4d3e-c85a-270a84e677db"
      },
      "execution_count": null,
      "outputs": [
        {
          "output_type": "stream",
          "name": "stdout",
          "text": [
            "enter the length of the rectangle:1\n",
            "enter the width of the rectangle (press enter the default value of 1):7\n",
            "the area of the rectangle is : 7.0\n"
          ]
        }
      ]
    },
    {
      "cell_type": "code",
      "source": [
        "def greet_person(name,greeting=\"hello\"):\n",
        "    personalized_greeting=f\"{greeting},{name}!\"\n",
        "    print(personalized_greeting)\n",
        "name=input(\"enter a name:\")\n",
        "greet_person(name)"
      ],
      "metadata": {
        "colab": {
          "base_uri": "https://localhost:8080/"
        },
        "id": "pBwJ2DM_BKn9",
        "outputId": "b0d41c62-f3d8-457d-8ecf-9ab64664b7c8"
      },
      "execution_count": null,
      "outputs": [
        {
          "output_type": "stream",
          "name": "stdout",
          "text": [
            "enter a name:kl rahul\n",
            "hello,kl rahul!\n"
          ]
        }
      ]
    },
    {
      "cell_type": "code",
      "source": [
        "def person_info(name,age,country):\n",
        "    print(f\"Name:{name}\")\n",
        "    print(f\"Age:{age}\")\n",
        "    print(f\"Country:{country}\")\n",
        "person_info(name=\"kl rahul\",age=21,country=\"india\")"
      ],
      "metadata": {
        "colab": {
          "base_uri": "https://localhost:8080/"
        },
        "id": "U-mRA8NEKp1q",
        "outputId": "25acb302-eb18-419a-e500-b0f387bb815b"
      },
      "execution_count": null,
      "outputs": [
        {
          "output_type": "stream",
          "name": "stdout",
          "text": [
            "Name:kl rahul\n",
            "Age:21\n",
            "Country:india\n"
          ]
        }
      ]
    },
    {
      "cell_type": "code",
      "source": [
        "def calculate_interest(principal,rate,time):\n",
        "    interest=(principal*rate*time)/100\n",
        "    return interest\n",
        "principal_amount=7000.0\n",
        "interest_rate=7.0\n",
        "time_peroid=7.177\n",
        "simple_interest=calculate_interest(principal=principal_amount,rate=interest_rate,time=time_peroid)\n",
        "print(f\"Principal: ${principal_amount}\")\n",
        "print(f\"Interest: {interest_rate}%\")\n",
        "print(f\"Time: {time_peroid} years\")\n",
        "print(f\"Simple Interest: ${simple_interest}\")\n"
      ],
      "metadata": {
        "colab": {
          "base_uri": "https://localhost:8080/"
        },
        "id": "L0qZiKwjOStg",
        "outputId": "20d07223-21c7-4fe4-94c3-c203e7f10238"
      },
      "execution_count": null,
      "outputs": [
        {
          "output_type": "stream",
          "name": "stdout",
          "text": [
            "Principal: $7000.0\n",
            "Interest: 7.0%\n",
            "Time: 7.177 years\n",
            "Simple Interest: $3516.73\n"
          ]
        }
      ]
    },
    {
      "cell_type": "code",
      "source": [
        "def sum_all(*args):\n",
        "    return sum(args)\n",
        "result=sum_all(1,1,2,2,1)\n",
        "print(\"sum:\",result)"
      ],
      "metadata": {
        "colab": {
          "base_uri": "https://localhost:8080/"
        },
        "id": "f3sNesDeSC9n",
        "outputId": "cd4c5152-0dc3-4164-b0c7-e479b30e6e47"
      },
      "execution_count": null,
      "outputs": [
        {
          "output_type": "stream",
          "name": "stdout",
          "text": [
            "sum: 7\n"
          ]
        }
      ]
    },
    {
      "cell_type": "code",
      "source": [
        "def print_items(*args):\n",
        "    for item in args:\n",
        "        print(item)\n",
        "print_items(\"rahane\",\"kohli\",\"ishan\",\"jadeja\",\"kl rahul\")"
      ],
      "metadata": {
        "colab": {
          "base_uri": "https://localhost:8080/"
        },
        "id": "dTd_3sfKT0zU",
        "outputId": "7932d725-e0e3-4cc1-9cf3-ac316a36597e"
      },
      "execution_count": null,
      "outputs": [
        {
          "output_type": "stream",
          "name": "stdout",
          "text": [
            "rahane\n",
            "kohli\n",
            "ishan\n",
            "jadeja\n",
            "kl rahul\n"
          ]
        }
      ]
    },
    {
      "cell_type": "code",
      "source": [
        "def create_person(name,age,*args):\n",
        "    person_info={\n",
        "         'name':name,\n",
        "         'age':age\n",
        "    }\n",
        "    for additional_info in args:\n",
        "        person_info.update(additional_info)\n",
        "    return person_info\n",
        "person1=create_person(\"rahane\",21)\n",
        "print(person1)\n",
        "person2=create_person(\"kl rahul\",21)\n",
        "print(person2)"
      ],
      "metadata": {
        "colab": {
          "base_uri": "https://localhost:8080/"
        },
        "id": "BoOhUa88Wxfl",
        "outputId": "e472c57f-198e-4f64-eb64-0ab35e93029e"
      },
      "execution_count": null,
      "outputs": [
        {
          "output_type": "stream",
          "name": "stdout",
          "text": [
            "{'name': 'rahane', 'age': 21}\n",
            "{'name': 'kl rahul', 'age': 21}\n"
          ]
        }
      ]
    },
    {
      "cell_type": "code",
      "source": [
        "def calculate_product(*args):\n",
        "    if len(args)<3:\n",
        "       print(\"error:at least three numbers are required\")\n",
        "       return None\n",
        "    result=1\n",
        "    for num in args:\n",
        "        result*=num\n",
        "    return result\n",
        "numbers=[1,1,7]\n",
        "result=calculate_product(*numbers)\n",
        "if result is not None:\n",
        "   print(f\"the product of {numbers}is:{result}\")"
      ],
      "metadata": {
        "colab": {
          "base_uri": "https://localhost:8080/"
        },
        "id": "KDGYAnEHaaIU",
        "outputId": "bcca740e-ca06-48dc-d6db-f347f2b7da28"
      },
      "execution_count": null,
      "outputs": [
        {
          "output_type": "stream",
          "name": "stdout",
          "text": [
            "the product of [1, 1, 7]is:7\n"
          ]
        }
      ]
    },
    {
      "cell_type": "code",
      "source": [
        "def is_even(number):\n",
        "    return number%2==0\n",
        "input_number=int(input(\"enter a number:\"))\n",
        "result=is_even(input_number)\n",
        "if result:\n",
        "    print(f\"{input_number}is even\")\n",
        "else:\n",
        "    print(f\"{input_number}is not even\")"
      ],
      "metadata": {
        "colab": {
          "base_uri": "https://localhost:8080/"
        },
        "id": "yYXwx6Q5dSwz",
        "outputId": "9c4d3133-868d-4a2f-b50b-682e5e57362a"
      },
      "execution_count": null,
      "outputs": [
        {
          "output_type": "stream",
          "name": "stdout",
          "text": [
            "enter a number:7\n",
            "7is not even\n"
          ]
        }
      ]
    },
    {
      "cell_type": "code",
      "source": [
        "def is_vowel(char):\n",
        "    char=char.lower()\n",
        "    return char in ['a','e','i','o','u']\n",
        "input_char=input(\"enter a character:\")\n",
        "if len(input_char)==1 and input_char.isalpha():\n",
        "   result=is_vowel(input_char)\n",
        "   print(f\"the character '{input_char}'is a vowel:{result}\")\n",
        "else:\n",
        "  print(\"invalid input please enter a single alphabet character\")"
      ],
      "metadata": {
        "colab": {
          "base_uri": "https://localhost:8080/"
        },
        "id": "EzhSXtXuf4QH",
        "outputId": "442b250c-bc4f-4662-ed22-d7fc629acac6"
      },
      "execution_count": null,
      "outputs": [
        {
          "output_type": "stream",
          "name": "stdout",
          "text": [
            "enter a character:e\n",
            "the character 'e'is a vowel:True\n"
          ]
        }
      ]
    },
    {
      "cell_type": "code",
      "source": [
        "def split_name(full_name):\n",
        "    name_parts=full_name.split()\n",
        "    if len(name_parts)>=2:\n",
        "       first_name=name_parts[0]\n",
        "       last_name=''.join(name_parts[1:])\n",
        "       name_tuple=(first_name,last_name)\n",
        "       return name_tuple\n",
        "    else:\n",
        "        return None\n",
        "full_name=input(\"enter a full name:\")\n",
        "result=split_name(full_name)\n",
        "if result is not None:\n",
        "   print(\"first name:\",result[0])\n",
        "   print(\"last name:\",result[1])\n",
        "else:\n",
        "    print(\"invalid input please enter a full name\")"
      ],
      "metadata": {
        "colab": {
          "base_uri": "https://localhost:8080/"
        },
        "id": "c2xY5ZqYmu62",
        "outputId": "a71ee60f-307d-415a-8dde-5e5e9a66c942"
      },
      "execution_count": null,
      "outputs": [
        {
          "output_type": "stream",
          "name": "stdout",
          "text": [
            "enter a full name:kl rahul\n",
            "first name: kl\n",
            "last name: rahul\n"
          ]
        }
      ]
    },
    {
      "cell_type": "code",
      "source": [
        "def perform_operation(num1,num2,operation):\n",
        "    if operation=='add':\n",
        "        result=num1+num2\n",
        "    elif operation=='subtract':\n",
        "         result=num1-num2\n",
        "    elif operation=='multiply':\n",
        "         result=num1*num2\n",
        "    elif operation=='divide':\n",
        "         if num2!=0:\n",
        "            result=num1/num2\n",
        "         else:\n",
        "             return \"error:division by zero is not allowed\"\n",
        "    else:\n",
        "        return \"error:invalid operation please choose 'add','subtract','multiply',or 'divide'\"\n",
        "    return result\n",
        "num1=int(input(\"enter the first number:\"))\n",
        "num2=int(input(\"enter the second number:\"))\n",
        "operation=input(\"enter the operation('add','subtract','multiply','divide'):\")\n",
        "result=perform_operation(num1,num2,operation)\n",
        "print(f\"result of {num1} {operation} {num2} is: {result}\")\n",
        "\n"
      ],
      "metadata": {
        "id": "udJD-mozpUgD",
        "colab": {
          "base_uri": "https://localhost:8080/"
        },
        "outputId": "3619656e-026d-4218-e8d9-ac7b27f372ba"
      },
      "execution_count": null,
      "outputs": [
        {
          "output_type": "stream",
          "name": "stdout",
          "text": [
            "enter the first number:7\n",
            "enter the second number:7\n",
            "enter the operation('add','subtract','multiply','divide'):1\n",
            "result of 7 1 7 is: error:invalid operation please choose 'add','subtract','multiply',or 'divide'\n"
          ]
        }
      ]
    },
    {
      "cell_type": "code",
      "source": [
        "square=lambda x:x**2\n",
        "number=int(input(\"enter a number:\"))\n",
        "result=square(number)\n",
        "print(f\"the square of {number}is: {result}\")"
      ],
      "metadata": {
        "colab": {
          "base_uri": "https://localhost:8080/"
        },
        "id": "ZMaT8J0COavI",
        "outputId": "3224de44-13e7-4819-98f3-e0dc7a3bc97c"
      },
      "execution_count": null,
      "outputs": [
        {
          "output_type": "stream",
          "name": "stdout",
          "text": [
            "enter a number:1\n",
            "the square of 1is: 1\n"
          ]
        }
      ]
    },
    {
      "cell_type": "code",
      "source": [
        "def filter_even(numbers,filter_function):\n",
        "    return list(filter(filter_function,numbers))\n",
        "numbers_list=[1,2,3,4,5,6,7]\n",
        "even_filter=lambda x:x%2==0\n",
        "filter_numbers=filter_even(numbers_list,even_filter)\n",
        "print(\"original list:\",numbers_list)\n",
        "print(\"filter list(even numbers):\",filter_numbers)"
      ],
      "metadata": {
        "colab": {
          "base_uri": "https://localhost:8080/"
        },
        "id": "tfas_ohJVEiz",
        "outputId": "ad386ca7-3f1f-43dc-d1c4-b763a0254be9"
      },
      "execution_count": null,
      "outputs": [
        {
          "output_type": "stream",
          "name": "stdout",
          "text": [
            "original list: [1, 2, 3, 4, 5, 6, 7]\n",
            "filter list(even numbers): [2, 4, 6]\n"
          ]
        }
      ]
    }
  ]
}