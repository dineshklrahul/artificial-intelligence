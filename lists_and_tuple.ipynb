{
  "nbformat": 4,
  "nbformat_minor": 0,
  "metadata": {
    "colab": {
      "provenance": []
    },
    "kernelspec": {
      "name": "python3",
      "display_name": "Python 3"
    },
    "language_info": {
      "name": "python"
    }
  },
  "cells": [
    {
      "cell_type": "code",
      "execution_count": null,
      "metadata": {
        "colab": {
          "base_uri": "https://localhost:8080/"
        },
        "id": "5ZzxCQxJxM1U",
        "outputId": "9a3d7876-477f-48b7-900a-4c5f48a91960"
      },
      "outputs": [
        {
          "output_type": "stream",
          "name": "stdout",
          "text": [
            "Fruits: ['apple', 'banana', 'orange']\n"
          ]
        }
      ],
      "source": [
        "fruits = ['apple','banana','orange']\n",
        "print(\"Fruits:\",fruits)\n"
      ]
    },
    {
      "cell_type": "code",
      "source": [
        "fruits = ['apple','banana','orange']\n",
        "fruits.append('grape')\n",
        "print(\"updated Fruits:\",fruits)"
      ],
      "metadata": {
        "colab": {
          "base_uri": "https://localhost:8080/"
        },
        "id": "fCUwVw7801oa",
        "outputId": "ea1993cb-5972-4bed-9b16-68adf0e1451d"
      },
      "execution_count": null,
      "outputs": [
        {
          "output_type": "stream",
          "name": "stdout",
          "text": [
            "updated Fruits: ['apple', 'banana', 'orange', 'grape']\n"
          ]
        }
      ]
    },
    {
      "cell_type": "code",
      "source": [
        "fruits = ['apple','banana','orange']\n",
        "fruits.remove('banana')\n",
        "print(\"updated Fruits:\",fruits)"
      ],
      "metadata": {
        "colab": {
          "base_uri": "https://localhost:8080/"
        },
        "id": "1vUUG2wx2Tjw",
        "outputId": "26b3e62b-c279-447b-9760-cef167e4bedf"
      },
      "execution_count": null,
      "outputs": [
        {
          "output_type": "stream",
          "name": "stdout",
          "text": [
            "updated Fruits: ['apple', 'orange']\n"
          ]
        }
      ]
    },
    {
      "cell_type": "code",
      "source": [
        "fruits = ['apple','banana','orange']\n",
        "if 'apple' in fruits:\n",
        "    print(\"yes,'apple' is present in the fruits list\")\n",
        "else:\n",
        "    print(\"no, 'apple' is not present in the fruits list\")"
      ],
      "metadata": {
        "colab": {
          "base_uri": "https://localhost:8080/"
        },
        "id": "hSyQKQOh4QUo",
        "outputId": "63c73409-5b60-4bc2-8bca-8a4b9fcf601f"
      },
      "execution_count": null,
      "outputs": [
        {
          "output_type": "stream",
          "name": "stdout",
          "text": [
            "yes,'apple' is present in the fruits list\n"
          ]
        }
      ]
    },
    {
      "cell_type": "code",
      "source": [
        "numbers = [1,2,3,4,5,6,7]\n",
        "print(\"Numbers:\",numbers)"
      ],
      "metadata": {
        "colab": {
          "base_uri": "https://localhost:8080/"
        },
        "id": "8XfOliNf6HPA",
        "outputId": "cf37727b-585a-4fc4-f390-1686e52371e9"
      },
      "execution_count": null,
      "outputs": [
        {
          "output_type": "stream",
          "name": "stdout",
          "text": [
            "Numbers: [1, 2, 3, 4, 5, 6, 7]\n"
          ]
        }
      ]
    },
    {
      "cell_type": "code",
      "source": [
        "fruits = ['apple','banana','orange']\n",
        "numbers=[1,2,3,4,5,6,7]\n",
        "combined_list=fruits.copy()\n",
        "combined_list.extend(numbers)\n",
        "print(\"Combined List:\",combined_list)"
      ],
      "metadata": {
        "colab": {
          "base_uri": "https://localhost:8080/"
        },
        "id": "V6qN5gJZ77oz",
        "outputId": "a3b29d7c-71a2-43a1-e9e4-768e44b19d06"
      },
      "execution_count": null,
      "outputs": [
        {
          "output_type": "stream",
          "name": "stdout",
          "text": [
            "Combined List: ['apple', 'banana', 'orange', 1, 2, 3, 4, 5, 6, 7]\n"
          ]
        }
      ]
    },
    {
      "cell_type": "code",
      "source": [
        "combined_list=['apple','banana','orange',1,2,3,4,5,6,7]\n",
        "index_of_orange=combined_list.index('orange')\n",
        "print(\"Index of 'orange':\",index_of_orange)"
      ],
      "metadata": {
        "colab": {
          "base_uri": "https://localhost:8080/"
        },
        "id": "WcZTEBIk98QQ",
        "outputId": "17b053c9-6a9d-4bae-a689-4410420b4a4a"
      },
      "execution_count": null,
      "outputs": [
        {
          "output_type": "stream",
          "name": "stdout",
          "text": [
            "Index of 'orange': 2\n"
          ]
        }
      ]
    },
    {
      "cell_type": "code",
      "source": [
        "fruits = ['apple','banana','orange']\n",
        "fruits.reverse()\n",
        "print(\"Reversed Fruits:\",fruits)"
      ],
      "metadata": {
        "colab": {
          "base_uri": "https://localhost:8080/"
        },
        "id": "h543i1Z3_zc4",
        "outputId": "9fc3249d-8379-4dba-ee98-1a32342b6ca6"
      },
      "execution_count": null,
      "outputs": [
        {
          "output_type": "stream",
          "name": "stdout",
          "text": [
            "Reversed Fruits: ['orange', 'banana', 'apple']\n"
          ]
        }
      ]
    },
    {
      "cell_type": "code",
      "source": [
        "days = ('monday','tuesday','wednesday','thrusday','friday')\n",
        "print(\"Days:\",days)"
      ],
      "metadata": {
        "colab": {
          "base_uri": "https://localhost:8080/"
        },
        "id": "FlkHfxGSBotS",
        "outputId": "44b13b7c-aac1-4956-d721-0ad3455d1f49"
      },
      "execution_count": null,
      "outputs": [
        {
          "output_type": "stream",
          "name": "stdout",
          "text": [
            "Days: ('monday', 'tuesday', 'wednesday', 'thrusday', 'friday')\n"
          ]
        }
      ]
    },
    {
      "cell_type": "code",
      "source": [
        "days = ('monday','tuesday','wednesday','thrusday','friday')\n",
        "second_day=days[1]\n",
        "print(\"Second Day:\",second_day)"
      ],
      "metadata": {
        "colab": {
          "base_uri": "https://localhost:8080/"
        },
        "id": "z7GeoVI5DFeX",
        "outputId": "b033d3f0-d97a-49a3-d9e4-738d6e3b070e"
      },
      "execution_count": null,
      "outputs": [
        {
          "output_type": "stream",
          "name": "stdout",
          "text": [
            "Second Day: tuesday\n"
          ]
        }
      ]
    },
    {
      "cell_type": "code",
      "source": [
        "days = ('monday','tuesday','wednesday','thrusday','friday')\n",
        "occurrences_of_tuesday=days.count('tuesday')\n",
        "print(\"Occurrences of 'tuesday':\",occurrences_of_tuesday)\n"
      ],
      "metadata": {
        "colab": {
          "base_uri": "https://localhost:8080/"
        },
        "id": "XS4lo6qhGFeo",
        "outputId": "e7b8b3a3-d923-4f5f-ca0b-41dbb1558d90"
      },
      "execution_count": null,
      "outputs": [
        {
          "output_type": "stream",
          "name": "stdout",
          "text": [
            "Occurrences of 'tuesday': 1\n"
          ]
        }
      ]
    },
    {
      "cell_type": "code",
      "source": [
        "days = ('monday','tuesday','wednesday','thrusday','friday')\n",
        "index_of_wednesday=days.index('wednesday')\n",
        "print(\"Index of 'wednesday':\",index_of_wednesday)"
      ],
      "metadata": {
        "colab": {
          "base_uri": "https://localhost:8080/"
        },
        "id": "nLBB3HGZIQY4",
        "outputId": "1e392405-41d0-4554-d7e4-36acc48f3946"
      },
      "execution_count": null,
      "outputs": [
        {
          "output_type": "stream",
          "name": "stdout",
          "text": [
            "Index of 'wednesday': 2\n"
          ]
        }
      ]
    }
  ]
}